{
 "cells": [
  {
   "cell_type": "code",
   "execution_count": 1,
   "id": "4ff2c804",
   "metadata": {},
   "outputs": [],
   "source": [
    "import psycopg2\n",
    "import pandas as pd\n",
    "import pyodbc"
   ]
  },
  {
   "cell_type": "code",
   "execution_count": 11,
   "id": "3a4b1130",
   "metadata": {},
   "outputs": [],
   "source": [
    "conn_lims = pyodbc.connect(\"Driver={SQL Server};\"\n",
    "                        \"Server=192.168.5.18\\CROPNUT;\"\n",
    "                        \"Database=cropnuts;\"\n",
    "                        \"uid=thomasTsuma;pwd=GR^KX$uRe9#JwLc6\")"
   ]
  },
  {
   "cell_type": "code",
   "execution_count": 12,
   "id": "7a19d5be",
   "metadata": {},
   "outputs": [],
   "source": [
    "averaged_spectra = pd.read_csv(\"outputFiles/averaged_spectra_samples.csv\")"
   ]
  },
  {
   "cell_type": "code",
   "execution_count": null,
   "id": "3cf830c8",
   "metadata": {},
   "outputs": [],
   "source": []
  },
  {
   "cell_type": "code",
   "execution_count": 13,
   "id": "04e3f27a",
   "metadata": {},
   "outputs": [],
   "source": [
    "sample_codes = averaged_spectra['sample_code'].values"
   ]
  },
  {
   "cell_type": "code",
   "execution_count": 14,
   "id": "9207511a",
   "metadata": {},
   "outputs": [
    {
     "name": "stderr",
     "output_type": "stream",
     "text": [
      "C:\\Users\\Tsuma Thomas\\AppData\\Roaming\\Python\\Python310\\site-packages\\pandas\\io\\sql.py:761: UserWarning: pandas only support SQLAlchemy connectable(engine/connection) ordatabase string URI or sqlite3 DBAPI2 connectionother DBAPI2 objects are not tested, please consider using SQLAlchemy\n",
      "  warnings.warn(\n"
     ]
    }
   ],
   "source": [
    "lims = pd.read_sql(f\"SELECT * FROM SampleResults WHERE sample_code IN {tuple(sample_codes)}\", con=conn_lims)"
   ]
  },
  {
   "cell_type": "code",
   "execution_count": 17,
   "id": "f3d2e33d",
   "metadata": {},
   "outputs": [],
   "source": [
    "lims = lims[['sample_code','chemical_name','result']]"
   ]
  },
  {
   "cell_type": "code",
   "execution_count": 18,
   "id": "4896f85b",
   "metadata": {},
   "outputs": [
    {
     "data": {
      "text/html": [
       "<div>\n",
       "<style scoped>\n",
       "    .dataframe tbody tr th:only-of-type {\n",
       "        vertical-align: middle;\n",
       "    }\n",
       "\n",
       "    .dataframe tbody tr th {\n",
       "        vertical-align: top;\n",
       "    }\n",
       "\n",
       "    .dataframe thead th {\n",
       "        text-align: right;\n",
       "    }\n",
       "</style>\n",
       "<table border=\"1\" class=\"dataframe\">\n",
       "  <thead>\n",
       "    <tr style=\"text-align: right;\">\n",
       "      <th></th>\n",
       "      <th>sample_code</th>\n",
       "      <th>chemical_name</th>\n",
       "      <th>result</th>\n",
       "    </tr>\n",
       "  </thead>\n",
       "  <tbody>\n",
       "    <tr>\n",
       "      <th>0</th>\n",
       "      <td>CO064SA0543</td>\n",
       "      <td>None</td>\n",
       "      <td>None</td>\n",
       "    </tr>\n",
       "    <tr>\n",
       "      <th>1</th>\n",
       "      <td>CO064SA0543</td>\n",
       "      <td>None</td>\n",
       "      <td>None</td>\n",
       "    </tr>\n",
       "    <tr>\n",
       "      <th>2</th>\n",
       "      <td>CO064SA0543</td>\n",
       "      <td>None</td>\n",
       "      <td>None</td>\n",
       "    </tr>\n",
       "    <tr>\n",
       "      <th>3</th>\n",
       "      <td>CO064SA0543</td>\n",
       "      <td>None</td>\n",
       "      <td>None</td>\n",
       "    </tr>\n",
       "    <tr>\n",
       "      <th>4</th>\n",
       "      <td>CM235SA0008</td>\n",
       "      <td>None</td>\n",
       "      <td>None</td>\n",
       "    </tr>\n",
       "    <tr>\n",
       "      <th>...</th>\n",
       "      <td>...</td>\n",
       "      <td>...</td>\n",
       "      <td>...</td>\n",
       "    </tr>\n",
       "    <tr>\n",
       "      <th>3101</th>\n",
       "      <td>FA538-13SA0001</td>\n",
       "      <td>Copper</td>\n",
       "      <td>0.76</td>\n",
       "    </tr>\n",
       "    <tr>\n",
       "      <th>3102</th>\n",
       "      <td>FA538-13SA0001</td>\n",
       "      <td>Zinc</td>\n",
       "      <td>1.10</td>\n",
       "    </tr>\n",
       "    <tr>\n",
       "      <th>3103</th>\n",
       "      <td>FA538-13SA0001</td>\n",
       "      <td>C.E.C</td>\n",
       "      <td>24.1</td>\n",
       "    </tr>\n",
       "    <tr>\n",
       "      <th>3104</th>\n",
       "      <td>FA538-13SA0001</td>\n",
       "      <td>Total Nitrogen</td>\n",
       "      <td>0.19</td>\n",
       "    </tr>\n",
       "    <tr>\n",
       "      <th>3105</th>\n",
       "      <td>FA538-13SA0001</td>\n",
       "      <td>Organic Carbon</td>\n",
       "      <td>2.38</td>\n",
       "    </tr>\n",
       "  </tbody>\n",
       "</table>\n",
       "<p>3106 rows × 3 columns</p>\n",
       "</div>"
      ],
      "text/plain": [
       "         sample_code   chemical_name result\n",
       "0        CO064SA0543            None   None\n",
       "1        CO064SA0543            None   None\n",
       "2        CO064SA0543            None   None\n",
       "3        CO064SA0543            None   None\n",
       "4        CM235SA0008            None   None\n",
       "...              ...             ...    ...\n",
       "3101  FA538-13SA0001          Copper   0.76\n",
       "3102  FA538-13SA0001            Zinc   1.10\n",
       "3103  FA538-13SA0001           C.E.C   24.1\n",
       "3104  FA538-13SA0001  Total Nitrogen   0.19\n",
       "3105  FA538-13SA0001  Organic Carbon   2.38\n",
       "\n",
       "[3106 rows x 3 columns]"
      ]
     },
     "execution_count": 18,
     "metadata": {},
     "output_type": "execute_result"
    }
   ],
   "source": [
    "lims"
   ]
  },
  {
   "cell_type": "code",
   "execution_count": 20,
   "id": "5592c7da",
   "metadata": {},
   "outputs": [],
   "source": [
    "lims = pd.pivot_table(lims, values='result', index=['sample_code'], columns=['chemical_name'], aggfunc='max')"
   ]
  },
  {
   "cell_type": "code",
   "execution_count": null,
   "id": "323fdeaa",
   "metadata": {},
   "outputs": [],
   "source": []
  },
  {
   "cell_type": "code",
   "execution_count": null,
   "id": "91d53882",
   "metadata": {},
   "outputs": [],
   "source": []
  }
 ],
 "metadata": {
  "kernelspec": {
   "display_name": "Python 3 (ipykernel)",
   "language": "python",
   "name": "python3"
  },
  "language_info": {
   "codemirror_mode": {
    "name": "ipython",
    "version": 3
   },
   "file_extension": ".py",
   "mimetype": "text/x-python",
   "name": "python",
   "nbconvert_exporter": "python",
   "pygments_lexer": "ipython3",
   "version": "3.10.7"
  }
 },
 "nbformat": 4,
 "nbformat_minor": 5
}
