{
 "cells": [
  {
   "cell_type": "code",
   "execution_count": 1,
   "id": "03454b60",
   "metadata": {},
   "outputs": [],
   "source": [
    "import pandas as pd\n",
    "from sklearn.model_selection import train_test_split\n",
    "import os\n",
    "import notebook\n",
    "from pathlib import Path"
   ]
  },
  {
   "cell_type": "code",
   "execution_count": 2,
   "id": "8aa0d976",
   "metadata": {},
   "outputs": [],
   "source": [
    "averaged_spectra = pd.read_csv(\"outputFiles/averaged_spectra_transformed.csv\", engine=\"c\")"
   ]
  },
  {
   "cell_type": "code",
   "execution_count": 3,
   "id": "fcb51d7f",
   "metadata": {},
   "outputs": [],
   "source": [
    "averaged_spectra =averaged_spectra.rename(columns={\"Unnamed: 0\":\"sample_code\"})"
   ]
  },
  {
   "cell_type": "code",
   "execution_count": null,
   "id": "1901dbd1",
   "metadata": {},
   "outputs": [],
   "source": []
  },
  {
   "cell_type": "code",
   "execution_count": 4,
   "id": "4c773919",
   "metadata": {},
   "outputs": [],
   "source": [
    "PATH_TO_PREV_SPLITS = \"./v2.2/splits\"\n",
    "PATH_TO_CURR_SPLITS = \"./outputFiles/splits\""
   ]
  },
  {
   "cell_type": "code",
   "execution_count": 5,
   "id": "1586fe6c",
   "metadata": {},
   "outputs": [],
   "source": [
    "for path in Path(PATH_TO_CURR_SPLITS).rglob(\"*.csv\"):\n",
    "    _ = pd.read_csv(path)\n",
    "    try:\n",
    "        _ = _.rename(columns={\"index\":\"x\"})\n",
    "        _.to_csv(path)\n",
    "    except Exception as e:\n",
    "        print(e)\n",
    "for path in Path(PATH_TO_PREV_SPLITS).rglob(\"*.csv\"):\n",
    "    _ = pd.read_csv(path)\n",
    "    try:\n",
    "        _ = _.rename(columns={\"index\":\"x\"})\n",
    "        _.to_csv(path)\n",
    "    except Exception as e:\n",
    "        print(e)"
   ]
  },
  {
   "cell_type": "code",
   "execution_count": 6,
   "id": "d19faa02",
   "metadata": {},
   "outputs": [],
   "source": [
    "df = pd.DataFrame()"
   ]
  },
  {
   "cell_type": "code",
   "execution_count": 7,
   "id": "d4a16170",
   "metadata": {},
   "outputs": [],
   "source": [
    "chemicals =['boron', 'calcium', 'clay', 'copper', 'ec_salts',\n",
    "       'exchangeable_acidity', 'iron', 'magnesium', 'manganese', 'phosphorus',\n",
    "       'potassium', 'sand', 'silt', 'sodium', 'sulphur', 'zinc', 'ph']\n"
   ]
  },
  {
   "cell_type": "code",
   "execution_count": 8,
   "id": "6886b926",
   "metadata": {},
   "outputs": [
    {
     "name": "stdout",
     "output_type": "stream",
     "text": [
      "[WinError 183] Cannot create a file when that file already exists: 'previous_model_splits'\n"
     ]
    }
   ],
   "source": [
    "try:\n",
    "    os.mkdir(\"previous_model_splits\")\n",
    "except Exception as e:\n",
    "    print(e)"
   ]
  },
  {
   "cell_type": "code",
   "execution_count": 29,
   "id": "e7d46782",
   "metadata": {},
   "outputs": [],
   "source": [
    "for path in Path(PATH_TO_PREV_SPLITS).rglob(\"*.csv\"):\n",
    "    p = pd.read_csv(path)\n",
    "    d = averaged_spectra[['sample_code']].rename(columns={\"sample_code\":\"x\"})\n",
    "    p = p.loc[(p['x'].isin(averaged_spectra['sample_code']))]\n",
    "    p.to_csv(f\"previous_model_splits/{path.name}\")"
   ]
  },
  {
   "cell_type": "code",
   "execution_count": null,
   "id": "ec09d454",
   "metadata": {},
   "outputs": [],
   "source": []
  },
  {
   "cell_type": "code",
   "execution_count": 10,
   "id": "3a0437eb",
   "metadata": {},
   "outputs": [
    {
     "name": "stderr",
     "output_type": "stream",
     "text": [
      "R[write to console]: \u001b[34mprospectr version 0.2.6 -- \u001b[39m'chicago'\n",
      "\n",
      "R[write to console]: \u001b[34mcheck the github repository at: https://github.com/l-ramirez-lopez/prospectr/\u001b[39m\n",
      "\n",
      "R[write to console]: data.table 1.14.6 using 4 threads (see ?getDTthreads).  Latest news: r-datatable.com\n",
      "\n"
     ]
    },
    {
     "name": "stdout",
     "output_type": "stream",
     "text": [
      "[1] \"chemical : exchangeable_acidity\"\n"
     ]
    },
    {
     "name": "stderr",
     "output_type": "stream",
     "text": [
      "R[write to console]: |--------------------------------------------------|\n",
      "|\n",
      "R[write to console]: =====\n",
      "R[write to console]: ===\n",
      "R[write to console]: ==\n",
      "R[write to console]: ===\n",
      "R[write to console]: ==\n",
      "R[write to console]: ==\n",
      "R[write to console]: ===\n",
      "R[write to console]: ==\n",
      "R[write to console]: ===\n",
      "R[write to console]: ==\n",
      "R[write to console]: ==\n",
      "R[write to console]: ===\n",
      "R[write to console]: ==\n",
      "R[write to console]: ==\n",
      "R[write to console]: ===\n",
      "R[write to console]: ==\n",
      "R[write to console]: ===\n",
      "R[write to console]: ==\n",
      "R[write to console]: ==\n",
      "R[write to console]: ==\n",
      "R[write to console]: |\n",
      "\n",
      "R[write to console]: Error: cons memory exhausted (limit reached?)\n",
      "\n",
      "R[write to console]: Error: no more error handlers available (recursive errors?); invoking 'abort' restart\n",
      "\n"
     ]
    },
    {
     "ename": "RRuntimeError",
     "evalue": "Error: cons memory exhausted (limit reached?)\n",
     "output_type": "error",
     "traceback": [
      "\u001b[1;31m---------------------------------------------------------------------------\u001b[0m",
      "\u001b[1;31mRRuntimeError\u001b[0m                             Traceback (most recent call last)",
      "Input \u001b[1;32mIn [10]\u001b[0m, in \u001b[0;36m<cell line: 3>\u001b[1;34m()\u001b[0m\n\u001b[0;32m      1\u001b[0m \u001b[38;5;28;01mimport\u001b[39;00m \u001b[38;5;21;01mrpy2\u001b[39;00m\u001b[38;5;21;01m.\u001b[39;00m\u001b[38;5;21;01mrobjects\u001b[39;00m \u001b[38;5;28;01mas\u001b[39;00m \u001b[38;5;21;01mrobjects\u001b[39;00m\n\u001b[0;32m      2\u001b[0m r \u001b[38;5;241m=\u001b[39m robjects\u001b[38;5;241m.\u001b[39mr\n\u001b[1;32m----> 3\u001b[0m \u001b[43mr\u001b[49m\u001b[43m[\u001b[49m\u001b[38;5;124;43m'\u001b[39;49m\u001b[38;5;124;43msource\u001b[39;49m\u001b[38;5;124;43m'\u001b[39;49m\u001b[43m]\u001b[49m\u001b[43m(\u001b[49m\u001b[38;5;124;43m'\u001b[39;49m\u001b[38;5;124;43msplits.R\u001b[39;49m\u001b[38;5;124;43m'\u001b[39;49m\u001b[43m)\u001b[49m\n\u001b[0;32m      4\u001b[0m split \u001b[38;5;241m=\u001b[39m robjects\u001b[38;5;241m.\u001b[39mglobalenv[\u001b[38;5;124m'\u001b[39m\u001b[38;5;124msplit\u001b[39m\u001b[38;5;124m'\u001b[39m]\n\u001b[0;32m      5\u001b[0m \u001b[38;5;28;01mfrom\u001b[39;00m \u001b[38;5;21;01mrpy2\u001b[39;00m\u001b[38;5;21;01m.\u001b[39;00m\u001b[38;5;21;01mrobjects\u001b[39;00m \u001b[38;5;28;01mimport\u001b[39;00m pandas2ri\n",
      "File \u001b[1;32mC:\\Python310\\lib\\site-packages\\rpy2\\robjects\\functions.py:204\u001b[0m, in \u001b[0;36mSignatureTranslatedFunction.__call__\u001b[1;34m(self, *args, **kwargs)\u001b[0m\n\u001b[0;32m    202\u001b[0m         v \u001b[38;5;241m=\u001b[39m kwargs\u001b[38;5;241m.\u001b[39mpop(k)\n\u001b[0;32m    203\u001b[0m         kwargs[r_k] \u001b[38;5;241m=\u001b[39m v\n\u001b[1;32m--> 204\u001b[0m \u001b[38;5;28;01mreturn\u001b[39;00m (\u001b[38;5;28msuper\u001b[39m(SignatureTranslatedFunction, \u001b[38;5;28mself\u001b[39m)\n\u001b[0;32m    205\u001b[0m         \u001b[38;5;241m.\u001b[39m\u001b[38;5;21m__call__\u001b[39m(\u001b[38;5;241m*\u001b[39margs, \u001b[38;5;241m*\u001b[39m\u001b[38;5;241m*\u001b[39mkwargs))\n",
      "File \u001b[1;32mC:\\Python310\\lib\\site-packages\\rpy2\\robjects\\functions.py:127\u001b[0m, in \u001b[0;36mFunction.__call__\u001b[1;34m(self, *args, **kwargs)\u001b[0m\n\u001b[0;32m    125\u001b[0m     \u001b[38;5;28;01melse\u001b[39;00m:\n\u001b[0;32m    126\u001b[0m         new_kwargs[k] \u001b[38;5;241m=\u001b[39m cv\u001b[38;5;241m.\u001b[39mpy2rpy(v)\n\u001b[1;32m--> 127\u001b[0m res \u001b[38;5;241m=\u001b[39m \u001b[38;5;28msuper\u001b[39m(Function, \u001b[38;5;28mself\u001b[39m)\u001b[38;5;241m.\u001b[39m\u001b[38;5;21m__call__\u001b[39m(\u001b[38;5;241m*\u001b[39mnew_args, \u001b[38;5;241m*\u001b[39m\u001b[38;5;241m*\u001b[39mnew_kwargs)\n\u001b[0;32m    128\u001b[0m res \u001b[38;5;241m=\u001b[39m cv\u001b[38;5;241m.\u001b[39mrpy2py(res)\n\u001b[0;32m    129\u001b[0m \u001b[38;5;28;01mreturn\u001b[39;00m res\n",
      "File \u001b[1;32mC:\\Python310\\lib\\site-packages\\rpy2\\rinterface_lib\\conversion.py:45\u001b[0m, in \u001b[0;36m_cdata_res_to_rinterface.<locals>._\u001b[1;34m(*args, **kwargs)\u001b[0m\n\u001b[0;32m     44\u001b[0m \u001b[38;5;28;01mdef\u001b[39;00m \u001b[38;5;21m_\u001b[39m(\u001b[38;5;241m*\u001b[39margs, \u001b[38;5;241m*\u001b[39m\u001b[38;5;241m*\u001b[39mkwargs):\n\u001b[1;32m---> 45\u001b[0m     cdata \u001b[38;5;241m=\u001b[39m function(\u001b[38;5;241m*\u001b[39margs, \u001b[38;5;241m*\u001b[39m\u001b[38;5;241m*\u001b[39mkwargs)\n\u001b[0;32m     46\u001b[0m     \u001b[38;5;66;03m# TODO: test cdata is of the expected CType\u001b[39;00m\n\u001b[0;32m     47\u001b[0m     \u001b[38;5;28;01mreturn\u001b[39;00m _cdata_to_rinterface(cdata)\n",
      "File \u001b[1;32mC:\\Python310\\lib\\site-packages\\rpy2\\rinterface.py:817\u001b[0m, in \u001b[0;36mSexpClosure.__call__\u001b[1;34m(self, *args, **kwargs)\u001b[0m\n\u001b[0;32m    810\u001b[0m     res \u001b[38;5;241m=\u001b[39m rmemory\u001b[38;5;241m.\u001b[39mprotect(\n\u001b[0;32m    811\u001b[0m         openrlib\u001b[38;5;241m.\u001b[39mrlib\u001b[38;5;241m.\u001b[39mR_tryEval(\n\u001b[0;32m    812\u001b[0m             call_r,\n\u001b[0;32m    813\u001b[0m             call_context\u001b[38;5;241m.\u001b[39m__sexp__\u001b[38;5;241m.\u001b[39m_cdata,\n\u001b[0;32m    814\u001b[0m             error_occured)\n\u001b[0;32m    815\u001b[0m     )\n\u001b[0;32m    816\u001b[0m     \u001b[38;5;28;01mif\u001b[39;00m error_occured[\u001b[38;5;241m0\u001b[39m]:\n\u001b[1;32m--> 817\u001b[0m         \u001b[38;5;28;01mraise\u001b[39;00m embedded\u001b[38;5;241m.\u001b[39mRRuntimeError(_rinterface\u001b[38;5;241m.\u001b[39m_geterrmessage())\n\u001b[0;32m    818\u001b[0m \u001b[38;5;28;01mreturn\u001b[39;00m res\n",
      "\u001b[1;31mRRuntimeError\u001b[0m: Error: cons memory exhausted (limit reached?)\n"
     ]
    }
   ],
   "source": [
    "import rpy2.robjects as robjects\n",
    "r = robjects.r\n",
    "r['source']('splits.R')\n",
    "split = robjects.globalenv['split']\n",
    "from rpy2.robjects import pandas2ri\n",
    "\n",
    "try:\n",
    "    os.mkdir(\"./outputFiles/splits\")\n",
    "    os.mkdir(\"./outputFiles/rds\")\n",
    "except:\n",
    "    print()\n",
    "\n",
    "\n",
    "pandas2ri.activate()\n",
    "\n",
    "split(\"D://CropNutsDocuments/DS-ML94/outputFiles/transformedWavelet.csv\",\"D://CropNutsDocuments/DS-ML94/outputFiles/rds/\", \"D://CropNutsDocuments/DS-ML94/outputFiles/splits\")"
   ]
  },
  {
   "cell_type": "code",
   "execution_count": 34,
   "id": "c3e8f77e",
   "metadata": {},
   "outputs": [
    {
     "name": "stdout",
     "output_type": "stream",
     "text": [
      "outputFiles\\splits\\boron_test_sample_codes.csv\n",
      "outputFiles\\splits\\boron_train_sample_codes.csv\n",
      "outputFiles\\splits\\boron_valid_sample_codes.csv\n"
     ]
    }
   ],
   "source": [
    "for path in Path(PATH_TO_CURR_SPLITS).rglob(\"*.csv\"):\n",
    "    filename = str(path.name)\n",
    "    chemical = filename.split(\"_\")[0]\n",
    "    train_test_valid = filename.split(\"_\")[1]\n",
    "#     curr = pd.read_csv(path)\n",
    "#     print(len(curr.loc[~(curr['x'].isin(averaged_spectra['sample_code']))]))\n",
    "#     prev = pd.read_csv(f\"previous_model_splits/{filename}\")\n",
    "#     new = pd.concat([curr, prev])[['x']].drop_duplicates()\n",
    "#     print(len(new.loc[~(new['x'].isin(averaged_spectra['sample_code']))]))\n",
    "#     new = new.loc[(new['x'].isin(averaged_spectra['sample_code']))]\n",
    "#     new.to_csv(f\"{path}\")\n",
    "    for path in Path(PATH_TO_CURR_SPLITS).rglob(f\"{chemical}*.csv\"):\n",
    "        if(train_test_valid not in str(path.name)):\n",
    "            df = pd.read_csv(path)\n",
    "            df = df.loc[~(df['x'].isin(new['x']))]\n",
    "\n",
    "    "
   ]
  },
  {
   "cell_type": "code",
   "execution_count": null,
   "id": "425cb167",
   "metadata": {},
   "outputs": [],
   "source": []
  },
  {
   "cell_type": "code",
   "execution_count": null,
   "id": "048b432a",
   "metadata": {},
   "outputs": [],
   "source": []
  },
  {
   "cell_type": "code",
   "execution_count": null,
   "id": "8597bd4f",
   "metadata": {},
   "outputs": [],
   "source": []
  },
  {
   "cell_type": "code",
   "execution_count": null,
   "id": "c592b1cb",
   "metadata": {},
   "outputs": [],
   "source": [
    "import psycopg2\n",
    "import pandas as pd\n",
    "import pyodbc"
   ]
  },
  {
   "cell_type": "code",
   "execution_count": null,
   "id": "73eb2925",
   "metadata": {},
   "outputs": [],
   "source": [
    "conn_lims = pyodbc.connect(\"Driver={SQL Server};\"\n",
    "                        \"Server=192.168.5.18\\CROPNUT;\"\n",
    "                        \"Database=cropnuts;\"\n",
    "                        \"uid=thomasTsuma;pwd=GR^KX$uRe9#JwLc6\")"
   ]
  },
  {
   "cell_type": "code",
   "execution_count": null,
   "id": "7320c900",
   "metadata": {},
   "outputs": [],
   "source": [
    "wetchem_df = pd.read_csv(\"outputFiles/lv_filtered.csv\")"
   ]
  },
  {
   "cell_type": "code",
   "execution_count": null,
   "id": "db940400",
   "metadata": {},
   "outputs": [],
   "source": [
    "lims_df = pd.read_sql(f\"SELECT client_name, sample_code from SampleResults WHERE sample_code IN {tuple(wetchem_df.sample_code.values)}\", con=conn_lims)"
   ]
  },
  {
   "cell_type": "code",
   "execution_count": null,
   "id": "a465dc42",
   "metadata": {},
   "outputs": [],
   "source": [
    "lims_df.dropna()"
   ]
  },
  {
   "cell_type": "code",
   "execution_count": null,
   "id": "12563794",
   "metadata": {},
   "outputs": [],
   "source": [
    "for client in lims_df.client_name.unique():\n",
    "    client = str(client).strip()\n",
    "    try:\n",
    "        os.mkdir(f\"outputFiles/clients/{client}\")\n",
    "    except Exception as e:\n",
    "        (e)\n",
    "    try:\n",
    "        client_df = pd.DataFrame()\n",
    "        client_df['sample_code'] = lims_df.loc[lims_df['client_name'] == str(client).strip()]['sample_code'].str.strip().unique()\n",
    "        if(len(client_df.index) < 10):\n",
    "            os.rmdir(f\"outputFiles/clients/{client}\")\n",
    "        else:\n",
    "            client_df.to_csv(f\"outputFiles/clients/{client}/{client}.csv\")\n",
    "    except Exception as e:\n",
    "        print(e)"
   ]
  },
  {
   "cell_type": "code",
   "execution_count": null,
   "id": "f3b92f7e",
   "metadata": {},
   "outputs": [],
   "source": [
    "averaged_spectra = averaged_spectra.rename(columns={\"Unnamed: 0\":\"sample_code\"})"
   ]
  },
  {
   "cell_type": "code",
   "execution_count": null,
   "id": "7276124c",
   "metadata": {
    "scrolled": true
   },
   "outputs": [],
   "source": [
    "for client in os.listdir(\"outputFiles/clients\"):\n",
    "    if(client == \"Apollo_Kenya\"):\n",
    "        continue\n",
    "    df = pd.read_csv(f\"outputFiles/clients/{client}/{client}.csv\")\n",
    "    df = pd.merge(df, averaged_spectra, on=\"sample_code\", how=\"left\")\n",
    "    try:\n",
    "        df = df.drop(\"Unnamed: 0\", axis=1)\n",
    "    except:\n",
    "        print()\n",
    "    df = df.set_index(\"sample_code\")\n",
    "    df.to_csv(f\"outputFiles/clients/{client}/{client}.csv\")    "
   ]
  },
  {
   "cell_type": "code",
   "execution_count": null,
   "id": "8b6986f7",
   "metadata": {},
   "outputs": [],
   "source": [
    "def get_db_cursor():\n",
    "    username = \"doadmin\"\n",
    "    password = 'yzmodwh2oh16iks6'\n",
    "    host = 'db-postgresql-cl1-do-user-2276924-0.db.ondigitalocean.com'\n",
    "    port = 25060\n",
    "    database = 'MandatoryMetadata'\n",
    "    schema = 'historical'\n",
    "\n",
    "    conn = psycopg2.connect(host=host,database=database, user=username, password=password, port=port)\n",
    "    cur = conn.cursor()\n",
    "    cur.execute(\"SET search_path TO \" + schema)\n",
    "\n",
    "    return conn, cur"
   ]
  },
  {
   "cell_type": "code",
   "execution_count": null,
   "id": "225d05ba",
   "metadata": {},
   "outputs": [],
   "source": [
    "conn, cur = get_db_cursor()"
   ]
  },
  {
   "cell_type": "code",
   "execution_count": null,
   "id": "a47a5f60",
   "metadata": {},
   "outputs": [],
   "source": [
    "apolo = pd.read_csv(\"outputFiles/clients/Apollo_Kenya/Apollo_Kenya.csv\")"
   ]
  },
  {
   "cell_type": "code",
   "execution_count": null,
   "id": "af5f50d6",
   "metadata": {},
   "outputs": [],
   "source": [
    "metadata = pd.read_sql(f\"SELECT metadata_id, sample_code FROM mandatorymetadata WHERE sample_code IN {tuple(apolo.sample_code.unique())}\", con=conn)"
   ]
  },
  {
   "cell_type": "code",
   "execution_count": null,
   "id": "04fc7f8b",
   "metadata": {},
   "outputs": [],
   "source": [
    "metadata.sample_code.unique()"
   ]
  },
  {
   "cell_type": "code",
   "execution_count": null,
   "id": "36885565",
   "metadata": {},
   "outputs": [],
   "source": []
  },
  {
   "cell_type": "code",
   "execution_count": null,
   "id": "54e519d2",
   "metadata": {},
   "outputs": [],
   "source": [
    "spectra = pd.read_sql(f\"SELECT metadata_id, averaged_spectra, non_averaged_spectra FROM spectraldata WHERE metadata_id IN {tuple(metadata.metadata_id.unique())}\", con=conn)\n"
   ]
  },
  {
   "cell_type": "code",
   "execution_count": null,
   "id": "79683593",
   "metadata": {},
   "outputs": [],
   "source": [
    "spectra = pd.merge(metadata, spectra, on=\"metadata_id\", how=\"inner\")"
   ]
  },
  {
   "cell_type": "code",
   "execution_count": null,
   "id": "fc050db2",
   "metadata": {},
   "outputs": [],
   "source": [
    "spectra = spectra.dropna(subset =['averaged_spectra'])[['sample_code','averaged_spectra']]"
   ]
  },
  {
   "cell_type": "code",
   "execution_count": null,
   "id": "e8d000a3",
   "metadata": {},
   "outputs": [],
   "source": [
    "spectra = spectra.set_index(\"sample_code\")"
   ]
  },
  {
   "cell_type": "code",
   "execution_count": null,
   "id": "80cd4ddd",
   "metadata": {},
   "outputs": [],
   "source": [
    "spectra"
   ]
  },
  {
   "cell_type": "code",
   "execution_count": null,
   "id": "e111120e",
   "metadata": {},
   "outputs": [],
   "source": [
    "_ = spectra.to_dict()"
   ]
  },
  {
   "cell_type": "code",
   "execution_count": null,
   "id": "98507b82",
   "metadata": {},
   "outputs": [],
   "source": [
    "_['averaged_spectra'].keys()"
   ]
  },
  {
   "cell_type": "code",
   "execution_count": null,
   "id": "5e1bcb5a",
   "metadata": {},
   "outputs": [],
   "source": [
    "df_2 = pd.DataFrame()"
   ]
  },
  {
   "cell_type": "code",
   "execution_count": null,
   "id": "903c97d1",
   "metadata": {},
   "outputs": [],
   "source": [
    "df_2.index = _['averaged_spectra'].keys()"
   ]
  },
  {
   "cell_type": "code",
   "execution_count": null,
   "id": "74af45ee",
   "metadata": {},
   "outputs": [],
   "source": [
    "df_2"
   ]
  },
  {
   "cell_type": "code",
   "execution_count": null,
   "id": "912767c7",
   "metadata": {},
   "outputs": [],
   "source": [
    "import ast\n",
    "import numpy as np\n",
    "for sample in list(_['averaged_spectra'].keys()):\n",
    "    print(sample)\n",
    "    spectra = _['averaged_spectra'][sample]\n",
    "#     print(spectra['521'])\n",
    "#     spectra = ast.literal_eval(spectra)\n",
    "    key = list(spectra.keys())[0]\n",
    "    spectra_list =  spectra[key]\n",
    "    print(len(spectra_list))\n",
    "    for spectra_val,column in zip(spectra_list, np.arange(0, len(spectra_list)*2, 2)):\n",
    "        df_2.loc[df_2.index == sample, column+522] = spectra_val"
   ]
  },
  {
   "cell_type": "code",
   "execution_count": null,
   "id": "0de2b55f",
   "metadata": {},
   "outputs": [],
   "source": []
  },
  {
   "cell_type": "code",
   "execution_count": null,
   "id": "0ce43898",
   "metadata": {},
   "outputs": [],
   "source": [
    "df_2 = df_2.reset_index()"
   ]
  },
  {
   "cell_type": "code",
   "execution_count": null,
   "id": "66b1c991",
   "metadata": {},
   "outputs": [],
   "source": [
    "df_2=df_2.rename(columns={\"index\":\"sample_code\"})"
   ]
  },
  {
   "cell_type": "code",
   "execution_count": null,
   "id": "5deb3191",
   "metadata": {},
   "outputs": [],
   "source": [
    "df_2.to_csv(\"outputFiles/clients/Apollo_Kenya/Apollo_Kenya.csv\")"
   ]
  },
  {
   "cell_type": "code",
   "execution_count": null,
   "id": "eaa1618b",
   "metadata": {},
   "outputs": [],
   "source": []
  },
  {
   "cell_type": "code",
   "execution_count": null,
   "id": "0e29f56c",
   "metadata": {},
   "outputs": [],
   "source": []
  },
  {
   "cell_type": "code",
   "execution_count": null,
   "id": "482a7d94",
   "metadata": {},
   "outputs": [],
   "source": []
  },
  {
   "cell_type": "code",
   "execution_count": null,
   "id": "67988351",
   "metadata": {
    "scrolled": true
   },
   "outputs": [],
   "source": [
    "import rpy2.robjects as robjects\n",
    "r = robjects.r\n",
    "r['source']('splits.R')\n",
    "split = robjects.globalenv['split']\n",
    "from rpy2.robjects import pandas2ri\n",
    "\n",
    "\n",
    "pandas2ri.activate()"
   ]
  },
  {
   "cell_type": "code",
   "execution_count": null,
   "id": "ed84996d",
   "metadata": {},
   "outputs": [],
   "source": [
    "for client in os.listdir(\"outputFiles/clients\"):\n",
    "    print(client)\n",
    "    try:\n",
    "        os.mkdir(f\"outputFiles/clients/{client}/rds\")\n",
    "        os.mkdir(f\"outputFiles/clients/{client}/splits\")\n",
    "    except Exception as e:\n",
    "        print(e) \n",
    "    print()\n",
    "    split(f\"D://CropNutsDocuments/DS-ML94/outputFiles/clients/{client}/{client}.csv\",f\"D://CropNutsDocuments/DS-ML94/outputFiles/clients/{client}/rds/\", f\"D://CropNutsDocuments/DS-ML94/outputFiles/clients/{client}/splits\" )"
   ]
  },
  {
   "cell_type": "code",
   "execution_count": null,
   "id": "8183b779",
   "metadata": {},
   "outputs": [],
   "source": []
  },
  {
   "cell_type": "code",
   "execution_count": null,
   "id": "adc6880d",
   "metadata": {},
   "outputs": [],
   "source": []
  },
  {
   "cell_type": "code",
   "execution_count": null,
   "id": "faf8f32d",
   "metadata": {},
   "outputs": [],
   "source": []
  },
  {
   "cell_type": "code",
   "execution_count": null,
   "id": "c2f72c6b",
   "metadata": {},
   "outputs": [],
   "source": []
  },
  {
   "cell_type": "code",
   "execution_count": null,
   "id": "3593a9a1",
   "metadata": {},
   "outputs": [],
   "source": []
  },
  {
   "cell_type": "code",
   "execution_count": null,
   "id": "34a19dc6",
   "metadata": {},
   "outputs": [],
   "source": []
  },
  {
   "cell_type": "code",
   "execution_count": null,
   "id": "89c53eda",
   "metadata": {},
   "outputs": [],
   "source": []
  },
  {
   "cell_type": "code",
   "execution_count": null,
   "id": "b6e9e514",
   "metadata": {},
   "outputs": [],
   "source": []
  },
  {
   "cell_type": "code",
   "execution_count": null,
   "id": "6f645995",
   "metadata": {},
   "outputs": [],
   "source": []
  },
  {
   "cell_type": "code",
   "execution_count": null,
   "id": "ddc8c09f",
   "metadata": {},
   "outputs": [],
   "source": []
  },
  {
   "cell_type": "code",
   "execution_count": null,
   "id": "941bfb34",
   "metadata": {},
   "outputs": [],
   "source": []
  },
  {
   "cell_type": "code",
   "execution_count": null,
   "id": "d9d69897",
   "metadata": {},
   "outputs": [],
   "source": []
  },
  {
   "cell_type": "code",
   "execution_count": null,
   "id": "b0de503d",
   "metadata": {},
   "outputs": [],
   "source": []
  },
  {
   "cell_type": "code",
   "execution_count": null,
   "id": "28030e05",
   "metadata": {},
   "outputs": [],
   "source": []
  },
  {
   "cell_type": "code",
   "execution_count": null,
   "id": "55baf7d2",
   "metadata": {},
   "outputs": [],
   "source": []
  },
  {
   "cell_type": "code",
   "execution_count": null,
   "id": "a80170f6",
   "metadata": {},
   "outputs": [],
   "source": []
  },
  {
   "cell_type": "code",
   "execution_count": null,
   "id": "6ee47542",
   "metadata": {},
   "outputs": [],
   "source": []
  },
  {
   "cell_type": "code",
   "execution_count": null,
   "id": "2c54148e",
   "metadata": {},
   "outputs": [],
   "source": []
  }
 ],
 "metadata": {
  "kernelspec": {
   "display_name": "Python 3 (ipykernel)",
   "language": "python",
   "name": "python3"
  },
  "language_info": {
   "codemirror_mode": {
    "name": "ipython",
    "version": 3
   },
   "file_extension": ".py",
   "mimetype": "text/x-python",
   "name": "python",
   "nbconvert_exporter": "python",
   "pygments_lexer": "ipython3",
   "version": "3.10.7"
  },
  "vscode": {
   "interpreter": {
    "hash": "369f2c481f4da34e4445cda3fffd2e751bd1c4d706f27375911949ba6bb62e1c"
   }
  }
 },
 "nbformat": 4,
 "nbformat_minor": 5
}
