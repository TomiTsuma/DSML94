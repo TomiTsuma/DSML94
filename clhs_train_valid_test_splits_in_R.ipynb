{
 "cells": [
  {
   "cell_type": "code",
   "execution_count": 20,
   "metadata": {
    "ExecuteTime": {
     "end_time": "2020-06-22T14:42:38.764050Z",
     "start_time": "2020-06-22T14:42:35.675Z"
    }
   },
   "outputs": [
    {
     "name": "stderr",
     "output_type": "stream",
     "text": [
      "also installing the dependencies 'cli', 'rlang', 'lifecycle'\n",
      "\n"
     ]
    },
    {
     "name": "stdout",
     "output_type": "stream",
     "text": [
      "\n",
      "  There are binary versions available but the source versions are later:\n",
      "          binary source needs_compilation\n",
      "cli        2.5.0  3.6.0              TRUE\n",
      "rlang     0.4.11  1.0.6              TRUE\n",
      "lifecycle  1.0.0  1.0.3             FALSE\n",
      "prospectr  0.2.1  0.2.6              TRUE\n",
      "\n",
      "  Binaries will be installed\n",
      "package 'cli' successfully unpacked and MD5 sums checked\n",
      "package 'rlang' successfully unpacked and MD5 sums checked\n",
      "package 'prospectr' successfully unpacked and MD5 sums checked\n",
      "\n",
      "The downloaded binary packages are in\n",
      "\tC:\\Users\\Tsuma Thomas\\AppData\\Local\\Temp\\RtmpYvwkrL\\downloaded_packages\n"
     ]
    },
    {
     "name": "stderr",
     "output_type": "stream",
     "text": [
      "installing the source package 'lifecycle'\n",
      "\n",
      "Warning message in install.packages(\"prospectr\"):\n",
      "\"installation of package 'lifecycle' had non-zero exit status\""
     ]
    }
   ],
   "source": [
    "install.packages(\"prospectr\")\n",
    "# install.packages(\"lifecycle\")\n",
    "# install.packages(\"data.table\")\n",
    "# install.packages(\"clhs\")\n",
    "# install.packages(\"ggplot2\")\n",
    "\n"
   ]
  },
  {
   "cell_type": "code",
   "execution_count": 21,
   "metadata": {},
   "outputs": [
    {
     "name": "stderr",
     "output_type": "stream",
     "text": [
      "Warning message:\n",
      "\"package 'prospectr' was built under R version 3.6.3\""
     ]
    },
    {
     "ename": "ERROR",
     "evalue": "Error: package or namespace load failed for 'prospectr' in loadNamespace(i, c(lib.loc, .libPaths()), versionCheck = vI[[i]]):\n there is no package called 'lifecycle'\n",
     "output_type": "error",
     "traceback": [
      "Error: package or namespace load failed for 'prospectr' in loadNamespace(i, c(lib.loc, .libPaths()), versionCheck = vI[[i]]):\n there is no package called 'lifecycle'\nTraceback:\n",
      "1. library(prospectr)",
      "2. tryCatch({\n .     attr(package, \"LibPath\") <- which.lib.loc\n .     ns <- loadNamespace(package, lib.loc)\n .     env <- attachNamespace(ns, pos = pos, deps, exclude, include.only)\n . }, error = function(e) {\n .     P <- if (!is.null(cc <- conditionCall(e))) \n .         paste(\" in\", deparse(cc)[1L])\n .     else \"\"\n .     msg <- gettextf(\"package or namespace load failed for %s%s:\\n %s\", \n .         sQuote(package), P, conditionMessage(e))\n .     if (logical.return) \n .         message(paste(\"Error:\", msg), domain = NA)\n .     else stop(msg, call. = FALSE, domain = NA)\n . })",
      "3. tryCatchList(expr, classes, parentenv, handlers)",
      "4. tryCatchOne(expr, names, parentenv, handlers[[1L]])",
      "5. value[[3L]](cond)",
      "6. stop(msg, call. = FALSE, domain = NA)"
     ]
    }
   ],
   "source": [
    "# library(lifecycle)\n",
    "library(prospectr)\n",
    "library(data.table)\n",
    "# library(ggplot2)\n",
    "# library(clhs)\n",
    "# library(stringr)\n"
   ]
  },
  {
   "cell_type": "code",
   "execution_count": 22,
   "metadata": {
    "ExecuteTime": {
     "end_time": "2020-06-22T14:42:38.779461Z",
     "start_time": "2020-06-22T14:42:36.312Z"
    }
   },
   "outputs": [],
   "source": [
    "chemicals <- c('boron', 'calcium', 'clay', 'copper', 'ec_salts',\n",
    "       'exchangeable_acidity', 'iron', 'magnesium', 'manganese', 'phosphorus',\n",
    "       'potassium', 'sand', 'silt', 'sodium', 'sulphur', 'zinc', 'ph')\n"
   ]
  },
  {
   "cell_type": "code",
   "execution_count": 23,
   "metadata": {
    "ExecuteTime": {
     "end_time": "2020-06-22T14:49:39.228001Z",
     "start_time": "2020-06-22T14:49:38.964Z"
    }
   },
   "outputs": [],
   "source": [
    "# rownames(df) <- df$V1"
   ]
  },
  {
   "cell_type": "code",
   "execution_count": 24,
   "metadata": {},
   "outputs": [],
   "source": [
    "# df <- fread(\"/home/${DO_USERNAME}/data_input/MSSC_DVC/global_spc_${chem}_filtered_20200625.csv\", header=TRUE); rownames(df) <- df$V1; df$V1 <- NULL; dim(df); sg <- savitzkyGolay(X = df, m = 1, p = 3, w = 21, delta.wav = 1); pca <- prcomp(t(sg), scale=FALSE); saveRDS(pca, file = \"/home/${DO_USERNAME}/data_input/MSSC_DVC/output/saved_model/saved_models/spectra_${chem}_pca.rds\");"
   ]
  },
  {
   "cell_type": "code",
   "execution_count": 25,
   "metadata": {},
   "outputs": [
    {
     "name": "stdout",
     "output_type": "stream",
     "text": [
      "[1] \"chemical : boron\"\n"
     ]
    },
    {
     "ename": "ERROR",
     "evalue": "Error in savitzkyGolay(X = df, m = 1, p = 3, w = 21, delta.wav = 1): could not find function \"savitzkyGolay\"\n",
     "output_type": "error",
     "traceback": [
      "Error in savitzkyGolay(X = df, m = 1, p = 3, w = 21, delta.wav = 1): could not find function \"savitzkyGolay\"\nTraceback:\n"
     ]
    }
   ],
   "source": [
    "for (chem in chemicals) {\n",
    "    print(paste0(\"chemical : \", chem))\n",
    "#     print(chemical)\n",
    "    df <- fread(paste0(\"D://CropNutsDocuments/DS-ML94/outputFiles/waveletTrans.csv\"), header=TRUE)\n",
    "    rownames(df) <- df$V1\n",
    "    df$V1 <- NULL\n",
    "    dim(df)\n",
    "    sg <- savitzkyGolay(X = df, m = 1, p = 3, w = 21, delta.wav = 1); \n",
    "    pca <- prcomp(t(sg), scale=FALSE); \n",
    "    saveRDS(pca, file = paste0(\"D://CropNutsDocuments/DS-ML94/outputFiles/RDS/\", chem, \"_pca.rds\"))\n",
    "#     rownames(df) <- df$V1\n",
    "    # PCA summary\n",
    "    summary(pca)\n",
    "\n",
    "\n",
    "    head(pca)\n",
    "\n",
    "    rownames(pca) \n",
    "\n",
    "\n",
    "\n",
    "    # select the components with threshold (95%) explained variance \n",
    "    pca_sub <- pca$rotation[, 0:6]\n",
    "\n",
    "    dim(pca_sub)\n",
    "\n",
    "    # calculate 10% of total number of samples\n",
    "    n_sel <- round(nrow(pca_sub) * 0.15)\n",
    "\n",
    "    # convert to dataframe\n",
    "    r.df <- data.frame(pca_sub)\n",
    "\n",
    "    # assign sample codes\n",
    "    rownames(r.df) <- rownames(df)\n",
    "    head(r.df)\n",
    "\n",
    "    # perform conditioned Latin Hypercube Sampling\n",
    "    res_test<-clhs(x=r.df, size=n_sel, iter=10000, simple = FALSE) \n",
    "    res_test$index_samples\n",
    "    test<-r.df[res_test$index_samples,]\n",
    "    head(test)\n",
    "\n",
    "    # plot only the objective function\n",
    "    plot(res_test, mode = \"obj\")\n",
    "\n",
    "    # compare the distribution in the original object and in the sampled result\n",
    "    plot(res_test, mode = c(\"obj\", \"box\"))\n",
    "\n",
    "    # check dimensions\n",
    "    dim(test)\n",
    "\n",
    "\n",
    "    rownames(res_test$sampled_data)\n",
    "\n",
    "    # save 10% selection sample codes\n",
    "    write.csv(rownames(res_test$sampled_data),paste0(\"D://CropNutsDocuments/DS-ML94/outputFiles/splits\", \"/\", chem, \"_test_sample_codes.csv\"))\n",
    "\n",
    "    remainder <- r.df[!rownames(r.df) %in% rownames(res_test$sampled_data), ]\n",
    "\n",
    "    dim(remainder)\n",
    "\n",
    "    dim(r.df)\n",
    "\n",
    "    n_sel_valid <- round(nrow(remainder) * 0.1)\n",
    "\n",
    "    n_sel\n",
    "\n",
    "    n_sel_valid\n",
    "\n",
    "    # perform conditioned Latin Hypercube Sampling\n",
    "    valid_res<-clhs(x=remainder, size=n_sel_valid, iter=10000, simple = FALSE) \n",
    "    valid_res$index_samples\n",
    "    valid<-r.df[valid_res$index_samples,]\n",
    "    head(valid)\n",
    "\n",
    "\n",
    "\n",
    "\n",
    "    # plot only the objective function\n",
    "    plot(valid_res, mode = \"obj\")\n",
    "\n",
    "    # compare the distribution in the original object and in the sampled result\n",
    "    plot(valid_res, mode = c(\"obj\", \"box\"))\n",
    "\n",
    "    # check dimensions\n",
    "    dim(valid)\n",
    "\n",
    "    # save 10% selection sample codes\n",
    "    write.csv(rownames(valid_res$sampled_data),paste0(\"D://CropNutsDocuments/DS-ML94/outputFiles/splits\", \"/\", chem, \"_valid_sample_codes.csv\"))\n",
    "\n",
    "\n",
    "\n",
    "\n",
    "\n",
    "\n",
    "\n",
    "\n",
    "\n",
    "    train <- remainder[!rownames(remainder) %in% rownames(valid_res$sampled_data), ]\n",
    "\n",
    "    dim(train)\n",
    "\n",
    "    dim(r.df)\n",
    "\n",
    "    dim(remainder)\n",
    "\n",
    "    write.csv(rownames(train),paste0(\"D://CropNutsDocuments/DS-ML94/outputFiles/splits\", \"/\", chem, \"_train_sample_codes.csv\"))\n",
    "\n",
    "\n",
    "    rownames(train)\n",
    "\n",
    "    \n",
    "}"
   ]
  },
  {
   "cell_type": "code",
   "execution_count": null,
   "metadata": {},
   "outputs": [],
   "source": [
    "rownames(df)"
   ]
  },
  {
   "cell_type": "code",
   "execution_count": null,
   "metadata": {
    "ExecuteTime": {
     "end_time": "2020-06-22T17:31:56.764218Z",
     "start_time": "2020-06-22T15:17:00.158Z"
    }
   },
   "outputs": [],
   "source": [
    "for (chem in chemicals) {\n",
    "#     print(chemical)\n",
    "    df <- fread(paste0(\"/home/ashton/data_input/MSSC_DVC/global_spc_\", chem, \"_filtered_20200622.csv\"), header=TRUE)\n",
    "    pca <- readRDS(paste0(\"/home/ashton/data_input/MSSC_DVC/spectra_\", chem, \"_pca.rds\"))\n",
    "    rownames(df) <- df$V1\n",
    "    # PCA summary\n",
    "    summary(pca)\n",
    "\n",
    "\n",
    "    head(pca)\n",
    "\n",
    "    rownames(pca) \n",
    "\n",
    "\n",
    "\n",
    "    # select the components with threshold (95%) explained variance \n",
    "    pca_sub <- pca$rotation[, 0:6]\n",
    "\n",
    "    dim(pca_sub)\n",
    "\n",
    "    # calculate 10% of total number of samples\n",
    "    n_sel <- round(nrow(pca_sub) * 0.15)\n",
    "\n",
    "    # convert to dataframe\n",
    "    r.df <- data.frame(pca_sub)\n",
    "\n",
    "    # assign sample codes\n",
    "    rownames(r.df) <- rownames(df)\n",
    "    head(r.df)\n",
    "\n",
    "    # perform conditioned Latin Hypercube Sampling\n",
    "    res_test<-clhs(x=r.df, size=n_sel, iter=10000, simple = FALSE) \n",
    "    res_test$index_samples\n",
    "    test<-r.df[res_test$index_samples,]\n",
    "    head(test)\n",
    "\n",
    "    # plot only the objective function\n",
    "    plot(res_test, mode = \"obj\")\n",
    "\n",
    "    # compare the distribution in the original object and in the sampled result\n",
    "    plot(res_test, mode = c(\"obj\", \"box\"))\n",
    "\n",
    "    # check dimensions\n",
    "    dim(test)\n",
    "\n",
    "\n",
    "    rownames(res_test$sampled_data)\n",
    "\n",
    "    # save 10% selection sample codes\n",
    "    write.csv(rownames(res_test$sampled_data),paste0(\"/\", \"home\", \"/\", \"ashton\", \"/\", \"data_input\", \"/\",  \"MSSC_DVC\", \"/\", \"global_data_20200622\", \"/\", \"splits\", \"/\", chem, \"_test_sample_codes.csv\"))\n",
    "\n",
    "    remainder <- r.df[!rownames(r.df) %in% rownames(res_test$sampled_data), ]\n",
    "\n",
    "    dim(remainder)\n",
    "\n",
    "    dim(r.df)\n",
    "\n",
    "    n_sel_valid <- round(nrow(remainder) * 0.1)\n",
    "\n",
    "    n_sel\n",
    "\n",
    "    n_sel_valid\n",
    "\n",
    "    # perform conditioned Latin Hypercube Sampling\n",
    "    valid_res<-clhs(x=remainder, size=n_sel_valid, iter=10000, simple = FALSE) \n",
    "    valid_res$index_samples\n",
    "    valid<-r.df[valid_res$index_samples,]\n",
    "    head(valid)\n",
    "\n",
    "\n",
    "\n",
    "\n",
    "    # plot only the objective function\n",
    "    plot(valid_res, mode = \"obj\")\n",
    "\n",
    "    # compare the distribution in the original object and in the sampled result\n",
    "    plot(valid_res, mode = c(\"obj\", \"box\"))\n",
    "\n",
    "    # check dimensions\n",
    "    dim(valid)\n",
    "\n",
    "    # save 10% selection sample codes\n",
    "    write.csv(rownames(valid_res$sampled_data),paste0(\"/\", \"home\", \"/\", \"ashton\", \"/\", \"data_input\", \"/\",  \"MSSC_DVC\", \"/\", \"global_data_20200622\", \"/\", \"splits\", \"/\", chem,  \"_valid_sample_codes.csv\"))\n",
    "\n",
    "\n",
    "\n",
    "\n",
    "\n",
    "\n",
    "\n",
    "\n",
    "\n",
    "    train <- remainder[!rownames(remainder) %in% rownames(valid_res$sampled_data), ]\n",
    "\n",
    "    dim(train)\n",
    "\n",
    "    dim(r.df)\n",
    "\n",
    "    dim(remainder)\n",
    "\n",
    "    write.csv(rownames(train),paste0(\"/\", \"home\", \"/\", \"ashton\", \"/\", \"data_input\", \"/\",  \"MSSC_DVC\", \"/\", \"global_data_20200622\", \"/\", \"splits\", \"/\", chem,  \"_train_sample_codes.csv\"))\n",
    "\n",
    "\n",
    "    rownames(train)\n",
    "\n",
    "    \n",
    "}"
   ]
  },
  {
   "cell_type": "code",
   "execution_count": null,
   "metadata": {
    "ExecuteTime": {
     "end_time": "2020-06-22T14:42:53.320523Z",
     "start_time": "2020-06-22T14:42:47.696Z"
    }
   },
   "outputs": [],
   "source": [
    "chem <- 'zinc'\n",
    "  \n",
    "\n",
    "pca <- readRDS(paste0(\"/home/ashton/data_input/MSSC_DVC/spectra_\", chem, \"_pca.rds\"))\n",
    "\n",
    "# PCA summary\n",
    "summary(pca)\n"
   ]
  },
  {
   "cell_type": "code",
   "execution_count": null,
   "metadata": {
    "ExecuteTime": {
     "end_time": "2020-06-22T14:43:21.088170Z",
     "start_time": "2020-06-22T14:42:48.526Z"
    }
   },
   "outputs": [],
   "source": [
    "head(pca)"
   ]
  },
  {
   "cell_type": "code",
   "execution_count": null,
   "metadata": {
    "ExecuteTime": {
     "end_time": "2020-06-22T14:43:21.089834Z",
     "start_time": "2020-06-22T14:42:49.014Z"
    }
   },
   "outputs": [],
   "source": [
    "rownames(pca) "
   ]
  },
  {
   "cell_type": "code",
   "execution_count": null,
   "metadata": {},
   "outputs": [],
   "source": []
  },
  {
   "cell_type": "code",
   "execution_count": null,
   "metadata": {
    "ExecuteTime": {
     "end_time": "2020-06-22T14:43:21.091099Z",
     "start_time": "2020-06-22T14:42:50.067Z"
    }
   },
   "outputs": [],
   "source": [
    "# select the components with threshold (95%) explained variance \n",
    "pca_sub <- pca$rotation[, 0:5]\n",
    "\n",
    "dim(pca_sub)\n",
    "\n",
    "# calculate 10% of total number of samples\n",
    "n_sel <- round(nrow(pca_sub) / 10)\n",
    "\n",
    "# convert to dataframe\n",
    "r.df <- data.frame(pca_sub)\n",
    "\n",
    "# assign sample codes\n",
    "rownames(r.df) <- rownames(df)\n",
    "head(r.df)"
   ]
  },
  {
   "cell_type": "code",
   "execution_count": null,
   "metadata": {
    "ExecuteTime": {
     "end_time": "2020-06-22T14:43:21.418332Z",
     "start_time": "2020-06-22T14:42:50.825Z"
    }
   },
   "outputs": [],
   "source": [
    "# perform conditioned Latin Hypercube Sampling\n",
    "res_test<-clhs(x=r.df, size=n_sel, iter=10, simple = FALSE) \n",
    "res_test$index_samples\n",
    "test<-r.df[res_test$index_samples,]\n",
    "head(test)"
   ]
  },
  {
   "cell_type": "code",
   "execution_count": null,
   "metadata": {
    "ExecuteTime": {
     "end_time": "2020-06-22T14:43:23.144274Z",
     "start_time": "2020-06-22T14:42:51.287Z"
    }
   },
   "outputs": [],
   "source": [
    "# plot only the objective function\n",
    "plot(res_test, mode = \"obj\")\n",
    "\n",
    "# compare the distribution in the original object and in the sampled result\n",
    "plot(res_test, mode = c(\"obj\", \"box\"))"
   ]
  },
  {
   "cell_type": "code",
   "execution_count": null,
   "metadata": {
    "ExecuteTime": {
     "end_time": "2020-06-22T14:43:23.163405Z",
     "start_time": "2020-06-22T14:42:52.130Z"
    }
   },
   "outputs": [],
   "source": [
    "# check dimensions\n",
    "dim(test)\n"
   ]
  },
  {
   "cell_type": "code",
   "execution_count": null,
   "metadata": {
    "ExecuteTime": {
     "end_time": "2020-06-22T14:43:23.197573Z",
     "start_time": "2020-06-22T14:42:52.551Z"
    }
   },
   "outputs": [],
   "source": [
    "rownames(res_test$sampled_data)"
   ]
  },
  {
   "cell_type": "code",
   "execution_count": null,
   "metadata": {
    "ExecuteTime": {
     "end_time": "2020-06-22T14:43:23.247674Z",
     "start_time": "2020-06-22T14:42:53.319Z"
    }
   },
   "outputs": [],
   "source": [
    "# save 10% selection sample codes\n",
    "write.csv(rownames(res_test$sampled_data),paste0(\"global_\", chem, \"_test_sample_codes.csv\"))"
   ]
  },
  {
   "cell_type": "code",
   "execution_count": null,
   "metadata": {
    "ExecuteTime": {
     "end_time": "2020-06-22T14:46:27.576188Z",
     "start_time": "2020-06-22T14:42:53.798Z"
    }
   },
   "outputs": [],
   "source": [
    "remainder <- r.df[!rownames(r.df) %in% rownames(res_test$sampled_data), ]\n",
    "\n",
    "dim(remainder)\n",
    "\n",
    "dim(r.df)\n",
    "\n",
    "n_sel_valid <- round(nrow(remainder) * 0.1)\n",
    "\n",
    "n_sel\n",
    "\n",
    "n_sel_valid\n",
    "\n",
    "# perform conditioned Latin Hypercube Sampling\n",
    "valid_res<-clhs(x=remainder, size=n_sel_valid, iter=10000, simple = FALSE) \n",
    "valid_res$index_samples\n",
    "valid<-r.df[valid_res$index_samples,]\n",
    "head(valid)\n",
    "\n",
    "\n",
    "\n",
    "\n",
    "# plot only the objective function\n",
    "plot(valid_res, mode = \"obj\")\n",
    "\n",
    "# compare the distribution in the original object and in the sampled result\n",
    "plot(valid_res, mode = c(\"obj\", \"box\"))\n",
    "\n",
    "# check dimensions\n",
    "dim(valid)\n",
    "\n",
    "# save 10% selection sample codes\n",
    "write.csv(rownames(valid_res$sampled_data),paste0(\"global_\", chem, \"_valid_sample_codes.csv\"))"
   ]
  },
  {
   "cell_type": "code",
   "execution_count": null,
   "metadata": {
    "ExecuteTime": {
     "end_time": "2020-06-22T14:46:27.718524Z",
     "start_time": "2020-06-22T14:42:54.853Z"
    }
   },
   "outputs": [],
   "source": [
    "\n",
    "\n",
    "\n",
    "\n",
    "\n",
    "\n",
    "\n",
    "\n",
    "train <- remainder[!rownames(remainder) %in% rownames(valid_res$sampled_data), ]\n",
    "\n",
    "dim(train)\n",
    "\n",
    "dim(r.df)\n",
    "\n",
    "dim(remainder)\n",
    "\n",
    "write.csv(rownames(train),paste0(\"global_\", chem, \"_train_sample_codes.csv\"))\n"
   ]
  },
  {
   "cell_type": "code",
   "execution_count": null,
   "metadata": {
    "ExecuteTime": {
     "end_time": "2020-06-22T14:22:54.845001Z",
     "start_time": "2020-06-22T14:22:54.801212Z"
    }
   },
   "outputs": [],
   "source": [
    "rownames(train)"
   ]
  },
  {
   "cell_type": "code",
   "execution_count": null,
   "metadata": {},
   "outputs": [],
   "source": []
  }
 ],
 "metadata": {
  "kernelspec": {
   "display_name": "R",
   "language": "R",
   "name": "ir"
  },
  "language_info": {
   "codemirror_mode": "r",
   "file_extension": ".r",
   "mimetype": "text/x-r-source",
   "name": "R",
   "pygments_lexer": "r",
   "version": "3.6.1"
  },
  "toc": {
   "base_numbering": 1,
   "nav_menu": {},
   "number_sections": true,
   "sideBar": true,
   "skip_h1_title": false,
   "title_cell": "Table of Contents",
   "title_sidebar": "Contents",
   "toc_cell": false,
   "toc_position": {},
   "toc_section_display": true,
   "toc_window_display": false
  }
 },
 "nbformat": 4,
 "nbformat_minor": 4
}
