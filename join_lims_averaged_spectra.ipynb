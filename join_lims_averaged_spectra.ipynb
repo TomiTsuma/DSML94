{
 "cells": [
  {
   "cell_type": "code",
   "execution_count": 1,
   "id": "4ff2c804",
   "metadata": {},
   "outputs": [],
   "source": [
    "import psycopg2\n",
    "import pandas as pd\n",
    "import pyodbc"
   ]
  },
  {
   "cell_type": "code",
   "execution_count": 2,
   "id": "3a4b1130",
   "metadata": {},
   "outputs": [],
   "source": [
    "conn_lims = pyodbc.connect(\"Driver={SQL Server};\"\n",
    "                        \"Server=192.168.5.18\\CROPNUT;\"\n",
    "                        \"Database=cropnuts;\"\n",
    "                        \"uid=thomasTsuma;pwd=GR^KX$uRe9#JwLc6\")"
   ]
  },
  {
   "cell_type": "code",
   "execution_count": 3,
   "id": "7a19d5be",
   "metadata": {},
   "outputs": [],
   "source": [
    "averaged_spectra = pd.read_csv(\"outputFiles/averaged_spectra_samples.csv\")"
   ]
  },
  {
   "cell_type": "code",
   "execution_count": 4,
   "id": "f49f4f7c",
   "metadata": {},
   "outputs": [
    {
     "data": {
      "text/html": [
       "<div>\n",
       "<style scoped>\n",
       "    .dataframe tbody tr th:only-of-type {\n",
       "        vertical-align: middle;\n",
       "    }\n",
       "\n",
       "    .dataframe tbody tr th {\n",
       "        vertical-align: top;\n",
       "    }\n",
       "\n",
       "    .dataframe thead th {\n",
       "        text-align: right;\n",
       "    }\n",
       "</style>\n",
       "<table border=\"1\" class=\"dataframe\">\n",
       "  <thead>\n",
       "    <tr style=\"text-align: right;\">\n",
       "      <th></th>\n",
       "      <th>Unnamed: 0</th>\n",
       "      <th>metadata_id</th>\n",
       "      <th>averaged_spectra</th>\n",
       "      <th>sample_code</th>\n",
       "    </tr>\n",
       "  </thead>\n",
       "  <tbody>\n",
       "    <tr>\n",
       "      <th>0</th>\n",
       "      <td>0</td>\n",
       "      <td>31</td>\n",
       "      <td>{'522': [2.3244656573818396, 2.300363936880086...</td>\n",
       "      <td>CO064SA0543</td>\n",
       "    </tr>\n",
       "    <tr>\n",
       "      <th>1</th>\n",
       "      <td>1</td>\n",
       "      <td>17</td>\n",
       "      <td>{'522': [2.3243741634120374, 2.307540485180485...</td>\n",
       "      <td>CS006SA0042</td>\n",
       "    </tr>\n",
       "    <tr>\n",
       "      <th>2</th>\n",
       "      <td>2</td>\n",
       "      <td>19</td>\n",
       "      <td>{'522': [2.2630152586026915, 2.290110779246487...</td>\n",
       "      <td>FA419-51SA0016</td>\n",
       "    </tr>\n",
       "    <tr>\n",
       "      <th>3</th>\n",
       "      <td>3</td>\n",
       "      <td>11</td>\n",
       "      <td>{'522': [2.154119577513004, 2.1818486646526885...</td>\n",
       "      <td>FA419-43SA0001</td>\n",
       "    </tr>\n",
       "    <tr>\n",
       "      <th>4</th>\n",
       "      <td>4</td>\n",
       "      <td>12</td>\n",
       "      <td>{'522': [2.163048776013803, 2.154486397031147,...</td>\n",
       "      <td>FA419-46SA0003</td>\n",
       "    </tr>\n",
       "    <tr>\n",
       "      <th>...</th>\n",
       "      <td>...</td>\n",
       "      <td>...</td>\n",
       "      <td>...</td>\n",
       "      <td>...</td>\n",
       "    </tr>\n",
       "    <tr>\n",
       "      <th>5451</th>\n",
       "      <td>5451</td>\n",
       "      <td>6496</td>\n",
       "      <td>{'522': [2.1780593727169077, 2.237326539442723...</td>\n",
       "      <td>CC176SA1451</td>\n",
       "    </tr>\n",
       "    <tr>\n",
       "      <th>5452</th>\n",
       "      <td>5452</td>\n",
       "      <td>6497</td>\n",
       "      <td>{'522': [2.1004350637315294, 2.081424588592166...</td>\n",
       "      <td>CC176SA0688</td>\n",
       "    </tr>\n",
       "    <tr>\n",
       "      <th>5453</th>\n",
       "      <td>5453</td>\n",
       "      <td>6498</td>\n",
       "      <td>{'522': [1.9198362844262806, 1.919189491471532...</td>\n",
       "      <td>CC176SA2142</td>\n",
       "    </tr>\n",
       "    <tr>\n",
       "      <th>5454</th>\n",
       "      <td>5454</td>\n",
       "      <td>6499</td>\n",
       "      <td>{'522': [2.0913684528685414, 2.179166172188140...</td>\n",
       "      <td>CC176SA2517</td>\n",
       "    </tr>\n",
       "    <tr>\n",
       "      <th>5455</th>\n",
       "      <td>5455</td>\n",
       "      <td>6500</td>\n",
       "      <td>{'522': [2.0277425624644816, 2.050921343979563...</td>\n",
       "      <td>CC176SA2394</td>\n",
       "    </tr>\n",
       "  </tbody>\n",
       "</table>\n",
       "<p>5456 rows × 4 columns</p>\n",
       "</div>"
      ],
      "text/plain": [
       "      Unnamed: 0  metadata_id  \\\n",
       "0              0           31   \n",
       "1              1           17   \n",
       "2              2           19   \n",
       "3              3           11   \n",
       "4              4           12   \n",
       "...          ...          ...   \n",
       "5451        5451         6496   \n",
       "5452        5452         6497   \n",
       "5453        5453         6498   \n",
       "5454        5454         6499   \n",
       "5455        5455         6500   \n",
       "\n",
       "                                       averaged_spectra     sample_code  \n",
       "0     {'522': [2.3244656573818396, 2.300363936880086...     CO064SA0543  \n",
       "1     {'522': [2.3243741634120374, 2.307540485180485...     CS006SA0042  \n",
       "2     {'522': [2.2630152586026915, 2.290110779246487...  FA419-51SA0016  \n",
       "3     {'522': [2.154119577513004, 2.1818486646526885...  FA419-43SA0001  \n",
       "4     {'522': [2.163048776013803, 2.154486397031147,...  FA419-46SA0003  \n",
       "...                                                 ...             ...  \n",
       "5451  {'522': [2.1780593727169077, 2.237326539442723...     CC176SA1451  \n",
       "5452  {'522': [2.1004350637315294, 2.081424588592166...     CC176SA0688  \n",
       "5453  {'522': [1.9198362844262806, 1.919189491471532...     CC176SA2142  \n",
       "5454  {'522': [2.0913684528685414, 2.179166172188140...     CC176SA2517  \n",
       "5455  {'522': [2.0277425624644816, 2.050921343979563...     CC176SA2394  \n",
       "\n",
       "[5456 rows x 4 columns]"
      ]
     },
     "execution_count": 4,
     "metadata": {},
     "output_type": "execute_result"
    }
   ],
   "source": [
    "averaged_spectra"
   ]
  },
  {
   "cell_type": "code",
   "execution_count": 5,
   "id": "04e3f27a",
   "metadata": {},
   "outputs": [],
   "source": [
    "sample_codes = averaged_spectra['sample_code'].values"
   ]
  },
  {
   "cell_type": "code",
   "execution_count": 6,
   "id": "9207511a",
   "metadata": {},
   "outputs": [
    {
     "name": "stderr",
     "output_type": "stream",
     "text": [
      "C:\\Users\\Tsuma Thomas\\AppData\\Roaming\\Python\\Python310\\site-packages\\pandas\\io\\sql.py:761: UserWarning: pandas only support SQLAlchemy connectable(engine/connection) ordatabase string URI or sqlite3 DBAPI2 connectionother DBAPI2 objects are not tested, please consider using SQLAlchemy\n",
      "  warnings.warn(\n"
     ]
    }
   ],
   "source": [
    "lims = pd.read_sql(f\"SELECT sample_code,chemical_name,result FROM SampleResults WHERE sample_code IN {tuple(sample_codes)}\", con=conn_lims)"
   ]
  },
  {
   "cell_type": "code",
   "execution_count": 7,
   "id": "f3d2e33d",
   "metadata": {},
   "outputs": [],
   "source": [
    "lims = lims[['sample_code','chemical_name','result']]"
   ]
  },
  {
   "cell_type": "code",
   "execution_count": 8,
   "id": "211f0311",
   "metadata": {},
   "outputs": [
    {
     "data": {
      "text/html": [
       "<div>\n",
       "<style scoped>\n",
       "    .dataframe tbody tr th:only-of-type {\n",
       "        vertical-align: middle;\n",
       "    }\n",
       "\n",
       "    .dataframe tbody tr th {\n",
       "        vertical-align: top;\n",
       "    }\n",
       "\n",
       "    .dataframe thead th {\n",
       "        text-align: right;\n",
       "    }\n",
       "</style>\n",
       "<table border=\"1\" class=\"dataframe\">\n",
       "  <thead>\n",
       "    <tr style=\"text-align: right;\">\n",
       "      <th></th>\n",
       "      <th>sample_code</th>\n",
       "      <th>chemical_name</th>\n",
       "      <th>result</th>\n",
       "    </tr>\n",
       "  </thead>\n",
       "  <tbody>\n",
       "    <tr>\n",
       "      <th>0</th>\n",
       "      <td>CH006SA5782</td>\n",
       "      <td>None</td>\n",
       "      <td>None</td>\n",
       "    </tr>\n",
       "    <tr>\n",
       "      <th>1</th>\n",
       "      <td>CH006SA5438</td>\n",
       "      <td>None</td>\n",
       "      <td>None</td>\n",
       "    </tr>\n",
       "    <tr>\n",
       "      <th>2</th>\n",
       "      <td>CM093SA0305</td>\n",
       "      <td>None</td>\n",
       "      <td>None</td>\n",
       "    </tr>\n",
       "    <tr>\n",
       "      <th>3</th>\n",
       "      <td>CV062SA0344</td>\n",
       "      <td>None</td>\n",
       "      <td>None</td>\n",
       "    </tr>\n",
       "    <tr>\n",
       "      <th>4</th>\n",
       "      <td>CH006SA5526</td>\n",
       "      <td>None</td>\n",
       "      <td>None</td>\n",
       "    </tr>\n",
       "    <tr>\n",
       "      <th>...</th>\n",
       "      <td>...</td>\n",
       "      <td>...</td>\n",
       "      <td>...</td>\n",
       "    </tr>\n",
       "    <tr>\n",
       "      <th>131045</th>\n",
       "      <td>CA602SA0023</td>\n",
       "      <td>None</td>\n",
       "      <td>None</td>\n",
       "    </tr>\n",
       "    <tr>\n",
       "      <th>131046</th>\n",
       "      <td>CA602SA0024</td>\n",
       "      <td>None</td>\n",
       "      <td>None</td>\n",
       "    </tr>\n",
       "    <tr>\n",
       "      <th>131047</th>\n",
       "      <td>CA602SA0024</td>\n",
       "      <td>None</td>\n",
       "      <td>None</td>\n",
       "    </tr>\n",
       "    <tr>\n",
       "      <th>131048</th>\n",
       "      <td>CA602SA0024</td>\n",
       "      <td>None</td>\n",
       "      <td>None</td>\n",
       "    </tr>\n",
       "    <tr>\n",
       "      <th>131049</th>\n",
       "      <td>CA602SA0024</td>\n",
       "      <td>None</td>\n",
       "      <td>None</td>\n",
       "    </tr>\n",
       "  </tbody>\n",
       "</table>\n",
       "<p>131050 rows × 3 columns</p>\n",
       "</div>"
      ],
      "text/plain": [
       "              sample_code chemical_name result\n",
       "0       CH006SA5782                None   None\n",
       "1       CH006SA5438                None   None\n",
       "2             CM093SA0305          None   None\n",
       "3             CV062SA0344          None   None\n",
       "4       CH006SA5526                None   None\n",
       "...                   ...           ...    ...\n",
       "131045        CA602SA0023          None   None\n",
       "131046        CA602SA0024          None   None\n",
       "131047        CA602SA0024          None   None\n",
       "131048        CA602SA0024          None   None\n",
       "131049        CA602SA0024          None   None\n",
       "\n",
       "[131050 rows x 3 columns]"
      ]
     },
     "execution_count": 8,
     "metadata": {},
     "output_type": "execute_result"
    }
   ],
   "source": [
    "lims"
   ]
  },
  {
   "cell_type": "code",
   "execution_count": 9,
   "id": "5592c7da",
   "metadata": {},
   "outputs": [],
   "source": [
    "lims = pd.pivot_table(lims, values='result', index=['sample_code'], columns=['chemical_name'], aggfunc='max')"
   ]
  },
  {
   "cell_type": "code",
   "execution_count": 10,
   "id": "4fa6854c",
   "metadata": {},
   "outputs": [],
   "source": [
    "chemicals = ['aluminium', \n",
    "            'phosphorus', 'ph', 'exchangeable_acidity', 'calcium', 'magnesium',\n",
    "              'sulphur', 'sodium', 'iron', 'manganese', 'boron', 'copper', 'zinc', 'potassium',\n",
    "             'ec_salts', 'cec', 'sand', 'silt', 'clay']"
   ]
  },
  {
   "cell_type": "code",
   "execution_count": 11,
   "id": "91d53882",
   "metadata": {},
   "outputs": [],
   "source": [
    "for column in lims.columns:\n",
    "    col = column.lower()\n",
    "    col = col.replace(\"(\",\"\").replace(\")\",\"\")\n",
    "    col = col.split(\" \")\n",
    "    col = \"_\".join(col)\n",
    "    lims = lims.rename(columns={column:col})\n",
    "for column in lims.columns:\n",
    "    if column not in chemicals:\n",
    "        lims.drop(column, axis=1, inplace=True)"
   ]
  },
  {
   "cell_type": "code",
   "execution_count": 12,
   "id": "eea341ce",
   "metadata": {},
   "outputs": [
    {
     "data": {
      "text/plain": [
       "Index(['aluminium', 'boron', 'calcium', 'clay', 'copper', 'ec_salts',\n",
       "       'exchangeable_acidity', 'iron', 'magnesium', 'manganese', 'phosphorus',\n",
       "       'potassium', 'sand', 'silt', 'sodium', 'sulphur', 'zinc', 'ph'],\n",
       "      dtype='object', name='chemical_name')"
      ]
     },
     "execution_count": 12,
     "metadata": {},
     "output_type": "execute_result"
    }
   ],
   "source": [
    "(lims.columns)\n",
    "# /rEMOVE ORGANICCARBON AND TOTALNITROGEN"
   ]
  },
  {
   "cell_type": "code",
   "execution_count": 13,
   "id": "3c0ce10d",
   "metadata": {},
   "outputs": [],
   "source": [
    "lims.to_csv(\"outputFiles/joined_spectra_with_lims.csv\")"
   ]
  },
  {
   "cell_type": "code",
   "execution_count": null,
   "id": "a3a35733",
   "metadata": {},
   "outputs": [],
   "source": []
  },
  {
   "cell_type": "code",
   "execution_count": null,
   "id": "a2d54f13",
   "metadata": {},
   "outputs": [],
   "source": []
  }
 ],
 "metadata": {
  "kernelspec": {
   "display_name": "Python 3 (ipykernel)",
   "language": "python",
   "name": "python3"
  },
  "language_info": {
   "codemirror_mode": {
    "name": "ipython",
    "version": 3
   },
   "file_extension": ".py",
   "mimetype": "text/x-python",
   "name": "python",
   "nbconvert_exporter": "python",
   "pygments_lexer": "ipython3",
   "version": "3.10.7"
  }
 },
 "nbformat": 4,
 "nbformat_minor": 5
}
